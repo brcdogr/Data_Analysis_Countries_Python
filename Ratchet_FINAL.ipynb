{
 "cells": [
  {
   "cell_type": "markdown",
   "metadata": {},
   "source": [
    "<div style=\"margin: 2em 5em 0 0;\">\n",
    "    \n",
    "<p>\n",
    "   <br>\n",
    "   <span style=\"margin-left: 17%; vertical-align: text-bottom;\">Business Analytics &nbsp;&bullet;&nbsp; Class of 2021 &nbsp;&bullet;&nbsp; Hult International Business School</span>\n",
    "   <span style=\"float: right; vertical-align: text-bottom\">Fall 2020</span>\n",
    "</p>\n",
    "<br>\n",
    "<hr style=\"height: 1px; margin-top: -.2em\">\n",
    "\n",
    "\n",
    "<center>\n",
    "   <br>\n",
    "   <span style=\"font-size: 155%; font-weight: bold; font-family: \"Times New Roman\", Times, serif;\">\n",
    "      A2: Data Analysis Team Project \n",
    "      <br style=\"margin-bottom: .6em\">\n",
    "      Caribbean Islands & Parts of Latin America  \n",
    "   </span>\n",
    "   <br>\n",
    "   <br>\n",
    "   <br>\n",
    "   <b>Team 9,&nbsp; Data Science: Python</b>\n",
    "   <br>\n",
    "   <div style=\"font-size: 107%; margin-top: .3em\">\n",
    "      <b>Instructor: Prof. Chase Kusterer</b>\n",
    "      <br style=\"margin-bottom: .5em\">\n",
    "      Baillie Allen\n",
    "      <br>\n",
    "      Carlos Andres Restrepo Ayala\n",
    "      <br>\n",
    "      Burcu Dogru\n",
    "      <br>\n",
    "      Jeanne Ron Leong Moon Tsien\n",
    "      <br>\n",
    "      Kevin Zagrean\n",
    "       \n",
    "   </div>\n",
    "   <div style=\"margin-top: .5em\">November 4th, 2020</div>\n",
    "</center>\n",
    " </div>\n",
    "   <div style=\"margin-top: bold; .6em\">Summary</div>\n",
    "</center>\n",
    " </div>\n",
    "<p>This report conducts an exploratory analysis related to 19 countries from the region Caribbean Islands and Parts of Latin America, utilizing the data from the World Bank dataset. The aim of this analysis is to understand the region from a technical and a non-technical perspective while formulating a strategy for missing values and identifying outliers of the dataset.<p>\n",
    "</center> \n",
    " </div>    \n",
    "<p>***Special Thank you to Dachao Sun for sharing his html code for the title markdown cell and the headings for this report.***  </p>  \n",
    "<br>\n",
    "<br>\n"
   ]
  },
  {
   "cell_type": "markdown",
   "metadata": {},
   "source": [
    "<div style=\"margin: 2em 5em 0 0; color: \">\n",
    "\n",
    "# Introduction\n",
    "<p>The Caribbean represents a group of culturally and biologically diverse islands famous for their enchanting scenery, crystal clear waters and amazing biodiversity. This region consists of over 700 islands many of which are popular tourist destinations. \n",
    "\n",
    "The Caribbean is also known to have high cultural and socioeconomic diversity. Early inhabitants of the Caribbean region were indigenous people from the South American continent. However, European colonization decimated the native population and brought disease, war and many enslaved Africans. In present day, the majority of the Island populations are descendants of these slaves. The remainder of the population is made up of a mix of cultures from all over the world. \n",
    "With an exception of Haiti (the least-developed country in the Americas), most islands in the Caribbean are considered to have a middle to high income making economic disparity significant amongst the countries. The lax tax laws may contribute to this disparity in many of the countries.<p>\n",
    "    \n",
    "    \n",
    "   \n",
    "</div>"
   ]
  },
  {
   "cell_type": "code",
   "execution_count": null,
   "metadata": {},
   "outputs": [],
   "source": [
    "# importing packages need for our analysis \n",
    "import pandas as pd # data science essentials\n",
    "import numpy as np \n",
    "import matplotlib.pyplot as plt # NEW: data visualization essentials\n",
    "import seaborn as sns # NEW: enhanced data visualization\n",
    "import openpyxl "
   ]
  },
  {
   "cell_type": "code",
   "execution_count": null,
   "metadata": {
    "scrolled": true
   },
   "outputs": [],
   "source": [
    "#downloading our dataset \n",
    "file = \"./datasets/Final_Project_Dataset.xlsx\"\n",
    "\n",
    "# reading the file into Python through pandas\n",
    "Final = pd.read_excel(io = file,\n",
    "                   sheet_name = 'Data',\n",
    "                   header = 0)\n",
    "\n",
    "\n",
    "# checking results\n",
    "Final.info()\n"
   ]
  },
  {
   "cell_type": "code",
   "execution_count": null,
   "metadata": {},
   "outputs": [],
   "source": [
    "#converting population from int to float \n",
    "\n",
    "data_types = {\"Population, total\" : float}\n",
    "\n",
    "Final = pd.read_excel(io = file, \n",
    "                   sheet_name = 'Data',\n",
    "                   header = 0,\n",
    "                   dtype=data_types)\n",
    "# checking that we were able to convert population\n",
    "Final.info()"
   ]
  },
  {
   "cell_type": "markdown",
   "metadata": {},
   "source": [
    "<div style=\"margin: 2em 5em 0 0; color: \">\n",
    "\n",
    "## Region: Caribbean Islands and Parts of Latin America\n",
    "    \n",
    "<p>Our Region includes 19 countries,they are: Aruba, Antigua and Barbuda, Bahamas, The Barbados, Cuba, Cayman Islands, Dominica, Dominican Republic, Grenada, Haiti, Jamaica, St. Kitts and Nevis, St. Lucia, Puerto Rico, Turks and Caicos Islands, Trinidad and Tobago, St. Vincent and the Grenadines, British Virgin Islands, Virgin Islands (U.S.).<p>"
   ]
  },
  {
   "cell_type": "code",
   "execution_count": null,
   "metadata": {},
   "outputs": [],
   "source": [
    "#narrowing down the data set to just our region \n",
    "Caribbean=Final.loc[ : , : ][Final.loc[ : ,'Cool Name']== 'Ratchet']\n",
    "\n",
    "#viewing the data\n",
    "Caribbean.head(n=5)\n"
   ]
  },
  {
   "cell_type": "markdown",
   "metadata": {},
   "source": [
    "<div style=\"margin: 2em 5em 0 0; color: \">\n",
    "\n",
    "# Flagging\n",
    "    \n",
    "<p>We have decided to work from a general perspective to a more detailed. Firstly, we identified, with true or false, then the exact number, absolute value, of missing values per variable, and lastly, as a percentage. The percentage made the variables more comparable for later use.<p> "
   ]
  },
  {
   "cell_type": "code",
   "execution_count": null,
   "metadata": {},
   "outputs": [],
   "source": [
    "#which cells have missing data? True= missing, False = no missing \n",
    "print(Caribbean.isnull().any()) "
   ]
  },
  {
   "cell_type": "code",
   "execution_count": null,
   "metadata": {},
   "outputs": [],
   "source": [
    "#viewing exactly how many variables are missing\n",
    "print(Caribbean.isnull().sum(axis=0))"
   ]
  },
  {
   "cell_type": "code",
   "execution_count": null,
   "metadata": {
    "code_folding": [],
    "scrolled": false
   },
   "outputs": [],
   "source": [
    "# mean() is giving us the average percentage of missing values in each column \n",
    "print(Caribbean.isnull().mean(axis=0).round(decimals= 2))"
   ]
  },
  {
   "cell_type": "markdown",
   "metadata": {},
   "source": [
    "<div style=\"margin: 2em 5em 0 0; color: \">\n",
    "\n",
    "## 45% Rule\n",
    "\n",
    "<p>As mentioned earlier, the diversity of Caribbean Islands and Parts of Latin America was our first challenge we faced. To overcome this, we made our first assumption as a group; we're going to focus on analyzing the columns which have the most reliable data available. This strategy consisted of putting any columns which had more than %45 of the data points missing aside. This narrowed down the amount of features we had to choose from.<p>"
   ]
  },
  {
   "cell_type": "code",
   "execution_count": null,
   "metadata": {},
   "outputs": [],
   "source": [
    "#Creating a subset of variables with less than 45% missing data\n",
    "caribbean_subset = Caribbean[['Country Code Total',\\\n",
    "                              'Country Name',\\\n",
    "                             'Adolescent fertility rate (births per 1,000 women ages 15-19)',\\\n",
    "                             'CO2 emissions (metric tons per capita)',\\\n",
    "                             'Contributing family workers, male (% of male employment)',\\\n",
    "                             'Contributing family workers, total (% of total employment)',\\\n",
    "                             'Employment to population ratio, 15+, female (%) (modeled ILO estimate)',\\\n",
    "                             'Employment to population ratio, 15+, male (%) (modeled ILO estimate)',\\\n",
    "                             'Employment to population ratio, 15+, total (%) (modeled ILO estimate)',\\\n",
    "                             'Fertility rate, total (births per woman)',\\\n",
    "                             'GNI per capita, Atlas method (current US$)',\\\n",
    "                             'Immunization, measles (% of children ages 12-23 months)',\\\n",
    "                             'Improved sanitation facilities (% of population with access)',\\\n",
    "                             'Improved water source (% of population with access)',\\\n",
    "                             'Incidence of tuberculosis (per 100,000 people)',\\\n",
    "                             'Internet users (per 100 people)',\\\n",
    "                             'Life expectancy at birth, total (years)',\\\n",
    "                             'Maternal mortality ratio (modeled estimate, per 100,000 live births)',\\\n",
    "                             'Mobile cellular subscriptions (per 100 people)',\\\n",
    "                             'Mortality rate, infant (per 1,000 live births)',\\\n",
    "                             'Net ODA received per capita (current US$)',\\\n",
    "                             'Population, total',\\\n",
    "                             'Prevalence of undernourishment (% of population)',\\\n",
    "                             'Proportion of seats held by women in national parliaments (%)',\\\n",
    "                             'Self-employed, total (% of total employment)',\\\n",
    "                             'Trade (% of GDP)',\\\n",
    "                             'Tuberculosis death rate (per 100,000 people), including HIV']]\n"
   ]
  },
  {
   "cell_type": "markdown",
   "metadata": {
    "cell_style": "center"
   },
   "source": [
    "<div style=\"margin: 2em 5em 0 0; color: \">\n",
    "\n",
    "# Five Unique Features for the Caribbean Islands and Latin America\n",
    " \n",
    "<p>After creating the subset consisting of 26 features, we moved further in our analysis and then went to the data to see what it would show. At first we only looked at the outside research and found that health, economy and climate change were all major issues. We then went to the data to see what it would show. After using cleaning we looked at comparative boxplots to see if we could identify any \"trends\".Once this was done it became clear that we were biasing our results, especially for features that were still missing a large amount of data.<p> \n",
    "    \n",
    "<p>This gave us pause, ultimately we decided to go with a combined approach. Choosing features which had a good amount of data and that seemed appropriate based on the outside research we had done. Though it was a difficult decision as many fit these criteria, we are confident that the 5 chosen are representative our region.<p>\n",
    "    \n",
    "<p>We also found that when looked at from a global perspective the Mobile Cellular subscription feature was surprisingly unique to the region and merited further exploration.<p>\n",
    "\n",
    "</div>  "
   ]
  },
  {
   "cell_type": "code",
   "execution_count": null,
   "metadata": {},
   "outputs": [],
   "source": [
    "#sizing the figure\n",
    "fig, ax = plt.subplots(figsize = (10,10))\n",
    "\n",
    "\n",
    "# Boxplot comparision of the Cell subscritpions of each region\n",
    "sns.boxplot(x      = 'Mobile cellular subscriptions (per 100 people)',  # x-variable\n",
    "            y      = 'Hult Region',     # optional y-variable\n",
    "            hue    = None,     # optional categorical feature\n",
    "            orient = 'h',      # horizontal or vertical\n",
    "            data   = Final) # DataFrame where features exist\n",
    "\n",
    "\n",
    "# formatting and displaying the plot\n",
    "plt.title(label   = 'Mobile cellular subscriptions (per 100 people) Global Comparison')\n",
    "plt.xlabel(xlabel = 'Mobile cellular subscriptions (per 100 people)')\n",
    "plt.ylabel(ylabel = 'Region of the world')\n",
    "plt.show()"
   ]
  },
  {
   "cell_type": "markdown",
   "metadata": {},
   "source": [
    "<div style=\"margin: 2em 5em 0 0; color: \">\n",
    "\n",
    "# Representative Country: Dominican Republic\n",
    " \n",
    "<p>In order to narrow down the one country that best represents the region, we filtered the dataset by missing values. This gave us the five countries that had all data points present. With a subset of our chosen features we compared these countries with the below bar graphs. We chose the country that had the closest data point to the mean of each feature. This gave us the Dominican Republic.\n",
    "</p>\n",
    "    \n",
    "</div>"
   ]
  },
  {
   "cell_type": "code",
   "execution_count": null,
   "metadata": {},
   "outputs": [],
   "source": [
    "# Creating the flags for missing data\n",
    "\n",
    "for col in caribbean_subset:\n",
    "    if caribbean_subset[col].isnull().any():\n",
    "        caribbean_subset['m_'+col] = caribbean_subset[col].isnull().astype(int)\n"
   ]
  },
  {
   "cell_type": "code",
   "execution_count": null,
   "metadata": {
    "scrolled": true
   },
   "outputs": [],
   "source": [
    "# the following code makes the n independent\n",
    "caribbean_subset_dropped = pd.DataFrame.copy(caribbean_subset)\n",
    "\n",
    "\n",
    "# using dropna() to creat new subset\n",
    "caribbean_subset_dropped = caribbean_subset_dropped.dropna().round(2)\n",
    "\n",
    "\n",
    "# checking to see if all missing values have been dropped\n",
    "print(caribbean_subset_dropped.isnull().sum())\n"
   ]
  },
  {
   "cell_type": "code",
   "execution_count": null,
   "metadata": {
    "scrolled": true
   },
   "outputs": [],
   "source": [
    "# This is the dataset when the countries with missing data are eliminated\n",
    "\n",
    "caribbean_subset_dropped"
   ]
  },
  {
   "cell_type": "code",
   "execution_count": null,
   "metadata": {},
   "outputs": [],
   "source": [
    "# Bar chart to compare countries based on 5 variables chosen as representative of the region \n",
    "\n",
    "# setting figure size\n",
    "fig, ax = plt.subplots(figsize = [8,6])\n",
    "\n",
    "# bar chart\n",
    "sns.barplot(x      = 'Mortality rate, infant (per 1,000 live births)',  # x-variable\n",
    "            y      = 'Country Name',     # optional y-variable\n",
    "            hue    = None,     # optional categorical feature\n",
    "            data   = caribbean_subset_dropped) # DataFrame where features exist\n",
    "\n",
    "plt.axvline(x = caribbean_subset_dropped['Mortality rate, infant (per 1,000 live births)'].mean(),#Add a vertical line across the axes. I this case the mean\n",
    "            color = 'black',\n",
    "            linestyle= '--')\n",
    "\n",
    "# formatting and displaying the plot\n",
    "plt.legend(labels =  ['Mean'])         # Place a legend with the axes.\n",
    "plt.title(label   = 'Mortality rate, infant (per 1,000 live births) ')\n",
    "plt.xlabel(xlabel = 'Mortality rate, infant (per 1,000 live births)')\n",
    "plt.ylabel(ylabel = 'Country Name')\n",
    "plt.show()"
   ]
  },
  {
   "attachments": {},
   "cell_type": "markdown",
   "metadata": {},
   "source": [
    "<div style=\"margin: 2em 5em 0 0; color: \">\n",
    "\n",
    "## Comparison of Infant Mortality Rate\n",
    " \n",
    "<p>On average, the Dominican Republic has an infant mortality rate of 29 deaths per 1,000 live births which is around the average of the five countries. This figure was relatively moderate in comparison to Haiti with 62 deaths per 1,000 live births. Further research found that the high figure could be attributed to the availability of food supply. According to the nutritional and health surveillance data, high cost in food prices led to an increase of mortality rate (Christian, 2010). Haiti being heavily affected by natural disasters are subject to rising costs of sustenance. Many households reduce their defer expenditure on essential items such as health care and reduce nutritional intake in order to cope. Furthermore, the graphs show that Cuba has the lowest infant mortality. This attribute is the result of the country’s dedication to health care with 11 percent of GDP directed towards increasing longevity (Berdine, 2018)."
   ]
  },
  {
   "cell_type": "code",
   "execution_count": null,
   "metadata": {},
   "outputs": [],
   "source": [
    "# Bar chart to compare countries based on 5 variables chosen as representative of the region \n",
    "\n",
    "# setting figure size\n",
    "fig, ax = plt.subplots(figsize = [8,6])\n",
    "\n",
    "# bar chart\n",
    "sns.barplot(x      = 'CO2 emissions (metric tons per capita)',  # x-variable\n",
    "            y      = 'Country Name',     # optional y-variable\n",
    "            hue    = None,     # optional categorical feature\n",
    "            data   = caribbean_subset_dropped) # DataFrame where features exist\n",
    "\n",
    "plt.axvline(x = caribbean_subset_dropped['CO2 emissions (metric tons per capita)'].mean(),      #Add a vertical line across the axes. I this case the mean\n",
    "            color = 'black',\n",
    "            linestyle= '--')\n",
    "\n",
    "# formatting and displaying the plot\n",
    "plt.legend(labels =  ['Mean'])         # Place a legend with the axes.\n",
    "plt.title(label   = 'CO2 emissions (metric tons per capita) ')\n",
    "plt.xlabel(xlabel = 'CO2 emissions (metric tons per capita)')\n",
    "plt.ylabel(ylabel = 'Country Name')\n",
    "plt.show()"
   ]
  },
  {
   "attachments": {},
   "cell_type": "markdown",
   "metadata": {},
   "source": [
    "<div style=\"margin: 2em 5em 0 0; color: \">\n",
    "\n",
    "## Comparison of CO2 Emission by metric ton per capita \n",
    " \n",
    "<p>The charts illustrate the Dominican Republic with carbon emission below the mean. In 2000, the Dominican Republic implemented a mandatory law (the Environment and Natural Resources Law No. 64-00) which established the principles of the management and use of natural resources,  environmental protection and the civil and criminal penalties. These strict rules account for the low carbon emissions even when the country is popular for tourism. In contrast to Barbados’ which had the highest carbon dioxide emissions."
   ]
  },
  {
   "cell_type": "code",
   "execution_count": null,
   "metadata": {},
   "outputs": [],
   "source": [
    "# Bar chart to compare countries based on 5 variables chosen as representative of the region \n",
    "\n",
    "# setting figure size\n",
    "fig, ax = plt.subplots(figsize = [8,6])\n",
    "\n",
    "# bar chart\n",
    "sns.barplot(x      = 'Employment to population ratio, 15+, total (%) (modeled ILO estimate)',  # x-variable\n",
    "            y      = 'Country Name',     # optional y-variable\n",
    "            hue    = None,     # optional categorical feature\n",
    "            data   = caribbean_subset_dropped) # DataFrame where features exist\n",
    "\n",
    "plt.axvline(x = caribbean_subset_dropped['Employment to population ratio, 15+, total (%) (modeled ILO estimate)'].mean(),      #Add a vertical line across the axes. I this case the mean\n",
    "            color = 'black',\n",
    "            linestyle= '--')\n",
    "\n",
    "# formatting and displaying the plot\n",
    "plt.legend(labels =  ['Mean'])         # Place a legend with the axes.\n",
    "plt.title(label   = 'Employment to population ratio, 15+, total (%) (modeled ILO estimate) ')\n",
    "plt.xlabel(xlabel = 'Employment to population ratio, 15+, total (%) (modeled ILO estimate)')\n",
    "plt.ylabel(ylabel = 'Country Name')\n",
    "plt.show()"
   ]
  },
  {
   "attachments": {},
   "cell_type": "markdown",
   "metadata": {},
   "source": [
    "<div style=\"margin: 2em 5em 0 0; color: \">\n",
    "\n",
    "## Comparison of Employment to Population Ratio\n",
    " \n",
    "<p>According to the World Travel & Tourism Council (WTTC), travel and tourism accounts for 20 percent of foreign exchange earnings and around 12 percent of total employment. At 60 percent, the Dominican Republic ranks above the average. Moreover, most of the countries have an employment to population ratio relatively close to the mean. With exception of Haiti and Cuba which is less dependent on tourism and travel."
   ]
  },
  {
   "cell_type": "code",
   "execution_count": null,
   "metadata": {
    "scrolled": true
   },
   "outputs": [],
   "source": [
    "# Bar chart to compare countries based on 5 variables chosen as representative of the region \n",
    "\n",
    "# setting figure size\n",
    "fig, ax = plt.subplots(figsize = [8,6])\n",
    "\n",
    "# bar chart\n",
    "sns.barplot(x      = 'GNI per capita, Atlas method (current US$)',  # x-variable\n",
    "            y      = 'Country Name',     # optional y-variable\n",
    "            hue    = None,     # optional categorical feature\n",
    "            data   = caribbean_subset_dropped) # DataFrame where features exist\n",
    "\n",
    "plt.axvline(x = caribbean_subset_dropped['GNI per capita, Atlas method (current US$)'].mean(),      #Add a vertical line across the axes. I this case the mean\n",
    "            color = 'black',\n",
    "            linestyle= '--')\n",
    "\n",
    "\n",
    "\n",
    "# formatting and displaying the plot\n",
    "plt.legend(labels =  ['Mean'])         # Place a legend with the axes.\n",
    "plt.title(label   = 'GNI per capita, Atlas method (current US$)')\n",
    "plt.xlabel(xlabel = 'GNI per capita, Atlas method (current US$)')\n",
    "plt.ylabel(ylabel = 'Country Name')\n",
    "plt.show()"
   ]
  },
  {
   "attachments": {},
   "cell_type": "markdown",
   "metadata": {},
   "source": [
    "<div style=\"margin: 2em 5em 0 0; color: \">\n",
    "\n",
    "## Comparison of GNI per capita \n",
    " \n",
    "<p>When comparing the GNI between the Dominican Republic and the other five countries, Barbados has the highest capita per income with its main source coming from tourism and off-shore banking. While the Dominican Republic ranks third amongst the others. The country heavily relies on its exports of sugar coffee and tobacco, tourism as well as finance sectors. Further research found that economic insecurity is prevalent in the Dominican Republic driven by institutional weaknesses, inadequate law enforcement and government expropriation (Ortiz, 2019). Since corruption is known to be a systematic problem, it may be considered as one of the contributing factors of the economy lagging behind Barbados and Cuba."
   ]
  },
  {
   "cell_type": "code",
   "execution_count": null,
   "metadata": {
    "scrolled": false
   },
   "outputs": [],
   "source": [
    "# Bar chart to compare countries based on 5 variables chosen as representative of the region \n",
    "\n",
    "# setting figure size\n",
    "fig, ax = plt.subplots(figsize = [8,6])\n",
    "\n",
    "# bar chart\n",
    "sns.barplot(x      = 'Mobile cellular subscriptions (per 100 people)',  # x-variable\n",
    "            y      = 'Country Name',     # optional y-variable\n",
    "            hue    = None,     # optional categorical feature\n",
    "            data   = caribbean_subset_dropped) # DataFrame where features exist\n",
    "\n",
    "plt.axvline(x = caribbean_subset_dropped['Mobile cellular subscriptions (per 100 people)'].mean(),      #Add a vertical line across the axes. I this case the mean\n",
    "            color = 'black',\n",
    "            linestyle= '--')\n",
    "\n",
    "# formatting and displaying the plot\n",
    "plt.legend(labels =  ['Mean'])         # Place a legend with the axes.\n",
    "plt.title(label   = 'Mobile cellular subscriptions (per 100 people) ')\n",
    "plt.xlabel(xlabel = 'Mobile cellular subscriptions (per 100 people)')\n",
    "plt.ylabel(ylabel = 'Country Name')\n",
    "plt.show()"
   ]
  },
  {
   "attachments": {},
   "cell_type": "markdown",
   "metadata": {},
   "source": [
    "<div style=\"margin: 2em 5em 0 0; color: \">\n",
    "\n",
    "## Comparison of Mobile cellular subscriptions \n",
    "    \n",
    "<p>According to the bar chart, the Donimican Republic’s mobile cellular subscriptions is closest to the average. Due to its under investment in network infrastructure, the fixed-line teledensity of the country is well below the Latin American Average (Budde, 2020). In contrast, Dominican Republic is well ahead when compared to Cuba has a significantly lower rate due to censorship as the state controls communication in the country. Furthermore, Haiti also had a significantly low mobile subscription rate which is a result of the high income disparity in the country. However, there were many initiatives that helped lower the cost of wireless technologies and cellular subscriptions."
   ]
  },
  {
   "cell_type": "markdown",
   "metadata": {},
   "source": [
    "<div style=\"margin: 2em 5em 0 0; color: \">\n",
    "\n",
    "# Working with Missing Values \n",
    "    \n",
    "<p>To combat the bias created by filling too many missing values with Mean or Median we looked to trustworthy outside sources to fill in some of the missing values.See the Bibliography for resources "
   ]
  },
  {
   "cell_type": "code",
   "execution_count": null,
   "metadata": {},
   "outputs": [],
   "source": [
    "#adding in values for COs emission. See Bibliography for resourses used. \n",
    "#PR\n",
    "caribbean_subset.loc[156,'CO2 emissions (metric tons per capita)'] =  0.49 #value from 2011\n",
    "\n",
    "\n",
    "#checking the result \n",
    "caribbean_subset['CO2 emissions (metric tons per capita)']"
   ]
  },
  {
   "cell_type": "code",
   "execution_count": null,
   "metadata": {},
   "outputs": [],
   "source": [
    "#adding in values to GNI. See Bibliography \n",
    "#Aruba\n",
    "caribbean_subset.loc[0,'GNI per capita, Atlas method (current US$)'] = 22450  #value from 2011\n",
    "#Cayman \n",
    "caribbean_subset.loc[46,'GNI per capita, Atlas method (current US$)'] = 71040  #from 2011\n",
    "#Turks\n",
    "caribbean_subset.loc[186,'GNI per capita, Atlas method (current US$)'] = 21835 #from 2011\n",
    "#BVI\n",
    "caribbean_subset.loc[206,'GNI per capita, Atlas method (current US$)'] = 33568 #from 2010\n",
    "\n",
    "#checking the results \n",
    "caribbean_subset['GNI per capita, Atlas method (current US$)']"
   ]
  },
  {
   "cell_type": "code",
   "execution_count": null,
   "metadata": {},
   "outputs": [],
   "source": [
    "#Adding in values to Employment to population ratio, 15+, total (%) (modeled ILO estimate)'. See Bib for resourses \n",
    "#Aruba\n",
    "caribbean_subset.loc[0,'Employment to population ratio, 15+, total (%) (modeled ILO estimate)'] =  57.13#value from 2010\n",
    "#Cayman\n",
    "caribbean_subset.loc[46,'Employment to population ratio, 15+, total (%) (modeled ILO estimate)'] = 76.3 #from 2010\n",
    "#Gran\n",
    "caribbean_subset.loc[76,'Employment to population ratio, 15+, total (%) (modeled ILO estimate)'] = 75.8 #from 2013\n",
    "#turks\n",
    "caribbean_subset.loc[186,'Employment to population ratio, 15+, total (%) (modeled ILO estimate)'] = 58.72 #from 2008\n",
    "\n",
    "#checking results\n",
    "caribbean_subset['Employment to population ratio, 15+, total (%) (modeled ILO estimate)']\n",
    "\n"
   ]
  },
  {
   "cell_type": "code",
   "execution_count": null,
   "metadata": {},
   "outputs": [],
   "source": [
    "#checking that the values were added. \n",
    "print(caribbean_subset[ ['Country Name','CO2 emissions (metric tons per capita)',\\\n",
    "                           'Employment to population ratio, 15+, total (%) (modeled ILO estimate)', \\\n",
    "                           'GNI per capita, Atlas method (current US$)',\\\n",
    "                           'Mortality rate, infant (per 1,000 live births)',\\\n",
    "                           'Mobile cellular subscriptions (per 100 people)'] ].isnull().mean().round(decimals= 2))"
   ]
  },
  {
   "cell_type": "markdown",
   "metadata": {},
   "source": [
    "<div style=\"margin: 2em 5em 0 0; color: \">\n",
    "\n",
    "## Histograms  \n",
    " \n",
    "<p>\n",
    "This form of bar chart was used to gain a better understanding of each variable. We ued the subset data and not the dropped data for this.\n",
    "Viewing the data this way made it easier to understand how each variable was distributed. We used the Histograms to decide whether the mean or median of the available data more accurately represented the normal distribution. Outliers may still be present in the data at this step, which can influence either measure of central tendency. Therefore, we compare the two with the apex of the normal distribution bell-shaped curve.<p>"
   ]
  },
  {
   "cell_type": "code",
   "execution_count": null,
   "metadata": {
    "scrolled": true
   },
   "outputs": [],
   "source": [
    "# Analyzing the behavior of CO2 emissions (metric tons per capita)\n",
    "\n",
    "# setting figure size\n",
    "fig, ax = plt.subplots(figsize = [10,8])\n",
    "\n",
    "# histogram for chart\n",
    "sns.distplot( a       = caribbean_subset['CO2 emissions (metric tons per capita)'],\n",
    "             bins     = 'fd',\n",
    "             hist     = True,\n",
    "             kde      = True,\n",
    "             rug      = False,\n",
    "             color    = 'black')\n",
    "\n",
    "# Tittles\n",
    "plt.title(label    = 'Caribbean CO2 emissions (metric tons per capita)')\n",
    "plt.xlabel(xlabel  = 'CO2 emissions (metric tons per capita)')\n",
    "plt.ylabel(ylabel  = 'Frequency')\n",
    "\n",
    "# New: These add vertical lines to the code\n",
    "plt.axvline(x = caribbean_subset['CO2 emissions (metric tons per capita)'].mean(),      #Add a vertical line across the axes. I this case the mean\n",
    "            color = 'red')\n",
    "\n",
    "plt.axvline( x    = caribbean_subset['CO2 emissions (metric tons per capita)'].median(), #Add a vertical line across the axes. I this case the median\n",
    "            color = 'blue')\n",
    "\n",
    "# Add legend\n",
    "plt.legend(labels =  ['Kde','Mean','Median'])         # Place a legend with the axes.\n",
    "\n",
    "# compile and display the plot\n",
    "plt.tight_layout()\n",
    "plt.show()"
   ]
  },
  {
   "cell_type": "code",
   "execution_count": null,
   "metadata": {},
   "outputs": [],
   "source": [
    "# Filling missing data with the MEDIAN of CO2 emissions (metric tons per capita) \n",
    "\n",
    "# soft coding MEDIAN for carat\n",
    "median = caribbean_subset['CO2 emissions (metric tons per capita)'].median()\n",
    "\n",
    "\n",
    "# filling carat NAs with MEDIAN\n",
    "caribbean_subset['CO2 emissions (metric tons per capita)'].fillna(value = median,\n",
    "                         inplace = True)\n",
    "\n",
    "\n",
    "# checking to make sure NAs are filled in\n",
    "print(caribbean_subset['CO2 emissions (metric tons per capita)'].isnull().any())"
   ]
  },
  {
   "cell_type": "code",
   "execution_count": null,
   "metadata": {},
   "outputs": [],
   "source": [
    "# Analyzing the behavior of Mobile cellular subscriptions (per 100 people)\n",
    "\n",
    "# setting figure size\n",
    "fig, ax = plt.subplots(figsize = [10,8])\n",
    "\n",
    "# histogram for chart\n",
    "sns.distplot( a       = caribbean_subset['Mobile cellular subscriptions (per 100 people)'],\n",
    "             bins     = 'fd',\n",
    "             hist     = True,\n",
    "             kde      = True,\n",
    "             rug      = False,\n",
    "             color    = 'black')\n",
    "\n",
    "# Tittles\n",
    "plt.title(label    = 'Caribbean Mobile cellular subscriptions (per 100 people)')\n",
    "plt.xlabel(xlabel  = 'Mobile cellular subscriptions (per 100 people)')\n",
    "plt.ylabel(ylabel  = 'Frequency')\n",
    "\n",
    "# New: These add vertical lines to the code\n",
    "plt.axvline(x = caribbean_subset['Mobile cellular subscriptions (per 100 people)'].mean(),      #Add a vertical line across the axes. I this case the mean\n",
    "            color = 'red')\n",
    "\n",
    "plt.axvline( x    = caribbean_subset['Mobile cellular subscriptions (per 100 people)'].median(), #Add a vertical line across the axes. I this case the median\n",
    "            color = 'blue')\n",
    "\n",
    "# Add legend\n",
    "plt.legend(labels =  ['Kde','Mean','Median'])         # Place a legend with the axes.\n",
    "\n",
    "# compile and display the plot\n",
    "plt.tight_layout()\n",
    "plt.show()"
   ]
  },
  {
   "cell_type": "code",
   "execution_count": null,
   "metadata": {},
   "outputs": [],
   "source": [
    "# Filling missing data with the MEDIAN of Mobile cellular subscriptions (per 100 people)\n",
    "\n",
    "\n",
    "# soft coding MEDIAN for carat\n",
    "median = caribbean_subset['Mobile cellular subscriptions (per 100 people)'].median()\n",
    "\n",
    "\n",
    "# filling carat NAs with MEDIAN\n",
    "caribbean_subset['Mobile cellular subscriptions (per 100 people)'].fillna(value = median,\n",
    "                         inplace = True)\n",
    "\n",
    "\n",
    "# checking to make sure NAs are filled in\n",
    "print(caribbean_subset['Mobile cellular subscriptions (per 100 people)'].isnull().any())"
   ]
  },
  {
   "cell_type": "code",
   "execution_count": null,
   "metadata": {},
   "outputs": [],
   "source": [
    "# Analyzing the behavior of Employment to population ratio, 15+, total (%) (modeled ILO estimate)\n",
    "\n",
    "# setting figure size\n",
    "fig, ax = plt.subplots(figsize = [10,8])\n",
    "\n",
    "# histogram for chart\n",
    "sns.distplot( a       = caribbean_subset['Employment to population ratio, 15+, total (%) (modeled ILO estimate)'],\n",
    "             bins     = 'fd',\n",
    "             hist     = True,\n",
    "             kde      = True,\n",
    "             rug      = False,\n",
    "             color    = 'black')\n",
    "\n",
    "# Tittles\n",
    "plt.title(label    = 'Caribbean Employment to population ratio, 15+, total (%) (modeled ILO estimate)')\n",
    "plt.xlabel(xlabel  = 'Employment to population ratio, 15+, total (%) (modeled ILO estimate)')\n",
    "plt.ylabel(ylabel  = 'Frequency')\n",
    "\n",
    "# New: These add vertical lines to the code\n",
    "plt.axvline(x = caribbean_subset['Employment to population ratio, 15+, total (%) (modeled ILO estimate)'].mean(),      #Add a vertical line across the axes. I this case the mean\n",
    "            color = 'red')\n",
    "\n",
    "plt.axvline( x    = caribbean_subset['Employment to population ratio, 15+, total (%) (modeled ILO estimate)'].median(), #Add a vertical line across the axes. I this case the median\n",
    "            color = 'blue')\n",
    "\n",
    "# Add legend\n",
    "plt.legend(labels =  ['Kde','Mean','Median'])         # Place a legend with the axes.\n",
    "\n",
    "# compile and display the plot\n",
    "plt.tight_layout()\n",
    "plt.show()"
   ]
  },
  {
   "cell_type": "code",
   "execution_count": null,
   "metadata": {},
   "outputs": [],
   "source": [
    "# Filling missing data with the MEDIAN of Caribbean Employment to population ratio, 15+, total (%) (modeled ILO estimate)\n",
    "\n",
    "\n",
    "# soft coding MEDIAN for carat\n",
    "median = caribbean_subset['Employment to population ratio, 15+, total (%) (modeled ILO estimate)'].median()\n",
    "\n",
    "\n",
    "# filling carat NAs with MEDIAN\n",
    "caribbean_subset['Employment to population ratio, 15+, total (%) (modeled ILO estimate)'].fillna(value = median,\n",
    "                         inplace = True)\n",
    "\n",
    "\n",
    "# checking to make sure NAs are filled in\n",
    "print(caribbean_subset['Employment to population ratio, 15+, total (%) (modeled ILO estimate)'].isnull().any())"
   ]
  },
  {
   "cell_type": "code",
   "execution_count": null,
   "metadata": {},
   "outputs": [],
   "source": [
    "# Analyzing the behavior of GNI per capita, Atlas method (current US$)\n",
    "\n",
    "# setting figure size\n",
    "fig, ax = plt.subplots(figsize = [10,8])\n",
    "\n",
    "# histogram for chart\n",
    "sns.distplot( a       = caribbean_subset['GNI per capita, Atlas method (current US$)'],\n",
    "             bins     = 'fd',\n",
    "             hist     = True,\n",
    "             kde      = True,\n",
    "             rug      = False,\n",
    "             color    = 'black')\n",
    "\n",
    "# Tittles\n",
    "plt.title(label    = 'Caribbean GNI per capita, Atlas method (current US$)')\n",
    "plt.xlabel(xlabel  = 'GNI per capita, Atlas method (current US$)')\n",
    "plt.ylabel(ylabel  = 'Frequency')\n",
    "\n",
    "# New: These add vertical lines to the code\n",
    "plt.axvline(x = caribbean_subset['GNI per capita, Atlas method (current US$)'].mean(),      #Add a vertical line across the axes. I this case the mean\n",
    "            color = 'red')\n",
    "\n",
    "plt.axvline( x    = caribbean_subset['GNI per capita, Atlas method (current US$)'].median(), #Add a vertical line across the axes. I this case the median\n",
    "            color = 'blue')\n",
    "\n",
    "# Add legend\n",
    "plt.legend(labels =  ['Kde','Mean','Median'])         # Place a legend with the axes.\n",
    "\n",
    "# compile and display the plot\n",
    "plt.tight_layout()\n",
    "plt.show()"
   ]
  },
  {
   "cell_type": "code",
   "execution_count": null,
   "metadata": {},
   "outputs": [],
   "source": [
    "# Filling missing data with the MEDIAN of GNI per capita, Atlas method (current US$)\n",
    "\n",
    "\n",
    "# soft coding MEDIAN for carat\n",
    "median = caribbean_subset['GNI per capita, Atlas method (current US$)'].median()\n",
    "\n",
    "\n",
    "# filling carat NAs with MEDIAN\n",
    "caribbean_subset['GNI per capita, Atlas method (current US$)'].fillna(value = median,\n",
    "                         inplace = True)\n",
    "\n",
    "\n",
    "# checking to make sure NAs are filled in\n",
    "print(caribbean_subset['GNI per capita, Atlas method (current US$)'].isnull().any())"
   ]
  },
  {
   "cell_type": "code",
   "execution_count": null,
   "metadata": {},
   "outputs": [],
   "source": [
    "# Analyzing the behavior of Mortality rate, infant (per 1,000 live births)\n",
    "\n",
    "# setting figure size\n",
    "fig, ax = plt.subplots(figsize = [10,8])\n",
    "\n",
    "# histogram for chart\n",
    "sns.distplot( a       = caribbean_subset['Mortality rate, infant (per 1,000 live births)'],\n",
    "             bins     = 'fd',\n",
    "             hist     = True,\n",
    "             kde      = True,\n",
    "             rug      = False,\n",
    "             color    = 'black')\n",
    "\n",
    "# Tittles\n",
    "plt.title(label    = 'Caribbean Mortality rate, infant (per 1,000 live births)')\n",
    "plt.xlabel(xlabel  = 'Mortality rate, infant (per 1,000 live births)')\n",
    "plt.ylabel(ylabel  = 'Frequency')\n",
    "\n",
    "# New: These add vertical lines to the code\n",
    "plt.axvline(x = caribbean_subset['Mortality rate, infant (per 1,000 live births)'].mean(),      #Add a vertical line across the axes. I this case the mean\n",
    "            color = 'red')\n",
    "\n",
    "plt.axvline( x    = caribbean_subset['Mortality rate, infant (per 1,000 live births)'].median(), #Add a vertical line across the axes. I this case the median\n",
    "            color = 'blue')\n",
    "\n",
    "# Add legend\n",
    "plt.legend(labels =  ['Kde','Mean','Median'])         # Place a legend with the axes.\n",
    "\n",
    "# compile and display the plot\n",
    "plt.tight_layout()\n",
    "plt.show()"
   ]
  },
  {
   "cell_type": "code",
   "execution_count": null,
   "metadata": {},
   "outputs": [],
   "source": [
    "# Filling missing data with the MEDIAN of Mortality rate, infant (per 1,000 live births)\n",
    "\n",
    "\n",
    "# soft coding MEDIAN for carat\n",
    "median = caribbean_subset['Mortality rate, infant (per 1,000 live births)'].median()\n",
    "\n",
    "\n",
    "# filling carat NAs with MEDIAN\n",
    "caribbean_subset['Mortality rate, infant (per 1,000 live births)'].fillna(value = median,\n",
    "                         inplace = True)\n",
    "\n",
    "\n",
    "# checking to make sure NAs are filled in. False means no missing values. \n",
    "print(caribbean_subset['Mortality rate, infant (per 1,000 live births)'].isnull().any())"
   ]
  },
  {
   "cell_type": "code",
   "execution_count": null,
   "metadata": {},
   "outputs": [],
   "source": [
    "#checking that the values were added. \n",
    "print(caribbean_subset[ ['Country Name','CO2 emissions (metric tons per capita)',\\\n",
    "                           'Employment to population ratio, 15+, total (%) (modeled ILO estimate)', \\\n",
    "                           'GNI per capita, Atlas method (current US$)',\\\n",
    "                           'Mortality rate, infant (per 1,000 live births)',\\\n",
    "                           'Mobile cellular subscriptions (per 100 people)'] ].isnull().any())"
   ]
  },
  {
   "cell_type": "markdown",
   "metadata": {},
   "source": [
    "<div style=\"margin: 2em 5em 0 0; color: \">\n",
    "\n",
    "# Using Boxplots to Identify Outliers\n",
    " \n",
    "<p>\n",
    "For the histograms above we used the median rather than the mean, this tells us that there may be outlies. <p>\n",
    "\n",
    "<p>Now that all the missing values slots have been filled we can proceed with calculating the interquartile ranges and applying the appropriate limits of the IQR. We created our limits by applying 1.5 IQr rule. <p>"
   ]
  },
  {
   "cell_type": "code",
   "execution_count": null,
   "metadata": {
    "cell_style": "center",
    "code_folding": []
   },
   "outputs": [],
   "source": [
    "###THis is Boxplot for Mobiler Cellure subscriptions\n",
    "\n",
    "# setting figure size\n",
    "fig, ax = plt.subplots(figsize = (10, 5))\n",
    "\n",
    "\n",
    "# developing a boxplot for carat\n",
    "sns.boxplot(x      = caribbean_subset['Mobile cellular subscriptions (per 100 people)'],  # x-variable\n",
    "            y      = None,     # optional y-variable\n",
    "            hue    = None,     # optional categorical feature\n",
    "            orient = 'h',      # horizontal or vertical\n",
    "            data   = caribbean_subset) # DataFrame where features exist\n",
    "\n",
    "\n",
    "# formatting and displaying the plot\n",
    "plt.title(label = 'Mobile cellular subscriptions (per 100 people)')\n",
    "plt.xlabel(xlabel = 'Number of subcriptions')\n",
    "plt.show()"
   ]
  },
  {
   "cell_type": "code",
   "execution_count": null,
   "metadata": {
    "cell_style": "center",
    "code_folding": []
   },
   "outputs": [],
   "source": [
    "# Treating outliers for Mobile cellular subscriptions (per 100 people)\n",
    "\n",
    "# Calculating interquartile range\n",
    "q3 = caribbean_subset['Mobile cellular subscriptions (per 100 people)'].quantile(0.75)\n",
    "q1 = caribbean_subset['Mobile cellular subscriptions (per 100 people)'].quantile(0.25)\n",
    "IQR = q3 - q1\n",
    "\n",
    "# Calculating compulsory limits of Interquartile Range(IQR) Method\n",
    "Lower_compulsory_limit = round(q1 - 1.5*IQR, 2)\n",
    "Upper_compulsory_limit = round(q3 + 1.5*IQR, 2)\n",
    "\n",
    "# Because the missing values are one of our main issues with dataset\n",
    "# We decided use the IQR rule to replace the outliers by IQR limits \n",
    "\n",
    "caribbean_subset['Mobile cellular subscriptions (per 100 people)'] = \\\n",
    "   np.where(caribbean_subset['Mobile cellular subscriptions (per 100 people)'] < Lower_compulsory_limit,\\\n",
    "            Lower_compulsory_limit, caribbean_subset['Mobile cellular subscriptions (per 100 people)'])\n",
    "caribbean_subset['Mobile cellular subscriptions (per 100 people)'] = \\\n",
    "   np.where(caribbean_subset['Mobile cellular subscriptions (per 100 people)'] > Upper_compulsory_limit,\\\n",
    "            Upper_compulsory_limit, caribbean_subset['Mobile cellular subscriptions (per 100 people)'])\n"
   ]
  },
  {
   "cell_type": "code",
   "execution_count": null,
   "metadata": {
    "code_folding": [
     0
    ]
   },
   "outputs": [],
   "source": [
    "# Making a boxplot of Mortality rate, infant (per 1,000 live births) to  analyze outliers\n",
    "\n",
    "# setting figure size\n",
    "fig, ax = plt.subplots(figsize = (10, 5))\n",
    "\n",
    "\n",
    "# developing a boxplot for carat\n",
    "sns.boxplot(x      = caribbean_subset['Mortality rate, infant (per 1,000 live births)'],  # x-variable\n",
    "           y      = None,     # optional y-variable\n",
    "           hue    = None,     # optional categorical feature\n",
    "           orient = 'h',      # horizontal or vertical\n",
    "           data   = caribbean_subset) # DataFrame where features exist\n",
    "\n",
    "\n",
    "#formatting and displaying the plot\n",
    "plt.title(label = 'Caribbean Mortality rate, infant (per 1,000 live births)')\n",
    "plt.xlabel(xlabel = 'Mortality rate, infant (per 1,000 live births)')\n",
    "plt.show()"
   ]
  },
  {
   "cell_type": "code",
   "execution_count": null,
   "metadata": {
    "code_folding": [
     0
    ]
   },
   "outputs": [],
   "source": [
    "# Treating outliers for Mortality rate, infant (per 1,000 live births)\n",
    "\n",
    "# Calculating interquartile range\n",
    "q3 = caribbean_subset['Mortality rate, infant (per 1,000 live births)'].quantile(0.75)\n",
    "q1 = caribbean_subset['Mortality rate, infant (per 1,000 live births)'].quantile(0.25)\n",
    "IQR = q3 - q1\n",
    "\n",
    "# Calculating compulsory limits of Interquartile Range(IQR) Method\n",
    "Lower_compulsory_limit = round(q1 - 1.5*IQR, 2)\n",
    "Upper_compulsory_limit = round(q3 + 1.5*IQR, 2)\n",
    "\n",
    "# Because the missing values are one of our main issues with dataset\n",
    "# We decided use the IQR rule to replace the outliers by IQR limits \n",
    "\n",
    "caribbean_subset['Mortality rate, infant (per 1,000 live births)'] = \\\n",
    "   np.where(caribbean_subset['Mortality rate, infant (per 1,000 live births)'] < Lower_compulsory_limit,\\\n",
    "            Lower_compulsory_limit, caribbean_subset['Mortality rate, infant (per 1,000 live births)'])\n",
    "caribbean_subset['Mortality rate, infant (per 1,000 live births)'] = \\\n",
    "   np.where(caribbean_subset['Mortality rate, infant (per 1,000 live births)'] > Upper_compulsory_limit,\\\n",
    "            Upper_compulsory_limit, caribbean_subset['Mortality rate, infant (per 1,000 live births)'])"
   ]
  },
  {
   "cell_type": "code",
   "execution_count": null,
   "metadata": {
    "code_folding": [
     0
    ]
   },
   "outputs": [],
   "source": [
    "#Boxplot for GNI per capita, Atlas method (current US$)\n",
    "# setting figure size\n",
    "fig, ax = plt.subplots(figsize = (10, 5))\n",
    "\n",
    "\n",
    "# developing a boxplot for carat\n",
    "sns.boxplot(x      = caribbean_subset['GNI per capita, Atlas method (current US$)'],  # x-variable\n",
    "            y      = None,     # optional y-variable\n",
    "            hue    = None,     # optional categorical feature\n",
    "            orient = 'h',      # horizontal or vertical\n",
    "            data   = caribbean_subset) # DataFrame where features exist\n",
    "\n",
    "\n",
    "# formatting and displaying the plot\n",
    "plt.title(label = 'GNI per capita, Atlas method (current US$)')\n",
    "plt.xlabel(xlabel = 'US currency')\n",
    "plt.show()"
   ]
  },
  {
   "cell_type": "code",
   "execution_count": null,
   "metadata": {
    "code_folding": [
     0
    ]
   },
   "outputs": [],
   "source": [
    "# Treating outliers for GNI per capita, Atlas method (current US$)\n",
    "\n",
    "# Calculating interquartile range\n",
    "q3 = caribbean_subset['GNI per capita, Atlas method (current US$)'].quantile(0.75)\n",
    "q1 = caribbean_subset['GNI per capita, Atlas method (current US$)'].quantile(0.25)\n",
    "IQR = q3 - q1\n",
    "\n",
    "# Calculating compulsory limits of Interquartile Range(IQR) Method\n",
    "Lower_compulsory_limit = round(q1 - 1.5*IQR, 2)\n",
    "Upper_compulsory_limit = round(q3 + 1.5*IQR, 2)\n",
    "\n",
    "# Because the missing values are one of our main issues with dataset\n",
    "# We decided use the IQR rule to replace the outliers by IQR limits \n",
    "\n",
    "caribbean_subset['GNI per capita, Atlas method (current US$)'] = \\\n",
    "   np.where(caribbean_subset['GNI per capita, Atlas method (current US$)'] < Lower_compulsory_limit,\\\n",
    "            Lower_compulsory_limit, caribbean_subset['GNI per capita, Atlas method (current US$)'])\n",
    "caribbean_subset['GNI per capita, Atlas method (current US$)'] = \\\n",
    "   np.where(caribbean_subset['GNI per capita, Atlas method (current US$)'] > Upper_compulsory_limit,\\\n",
    "            Upper_compulsory_limit, caribbean_subset['GNI per capita, Atlas method (current US$)'])"
   ]
  },
  {
   "cell_type": "code",
   "execution_count": null,
   "metadata": {
    "code_folding": [
     0
    ]
   },
   "outputs": [],
   "source": [
    "# Making a boxplot of Employment to population ratio, 15+, total (%) (modeled ILO estimate) to  analyze outliers\n",
    "\n",
    "# setting figure size\n",
    "fig, ax = plt.subplots(figsize = (10, 5))\n",
    "\n",
    "\n",
    "# developing a boxplot for carat\n",
    "sns.boxplot(x      = caribbean_subset['Employment to population ratio, 15+, total (%) (modeled ILO estimate)'],  # x-variable\n",
    "           y      = None,     # optional y-variable\n",
    "           hue    = None,     # optional categorical feature\n",
    "           orient = 'h',      # horizontal or vertical\n",
    "           data   = caribbean_subset) # DataFrame where features exist\n",
    "\n",
    "\n",
    "#formatting and displaying the plot\n",
    "plt.title(label = 'Caribbean Employment to population ratio, 15+, total (%) (modeled ILO estimate)')\n",
    "plt.xlabel(xlabel = 'Employment to population ratio, 15+, total (%) (modeled ILO estimate)')\n",
    "plt.show()"
   ]
  },
  {
   "cell_type": "code",
   "execution_count": null,
   "metadata": {
    "code_folding": [
     0
    ]
   },
   "outputs": [],
   "source": [
    "# Treating outliers for Employment to population ratio, 15+, total (%) (modeled ILO estimate)\n",
    "\n",
    "# Calculating interquartile range\n",
    "q3 = caribbean_subset['Employment to population ratio, 15+, total (%) (modeled ILO estimate)'].quantile(0.75)\n",
    "q1 = caribbean_subset['Employment to population ratio, 15+, total (%) (modeled ILO estimate)'].quantile(0.25)\n",
    "IQR = q3 - q1\n",
    "\n",
    "# Calculating compulsory limits of Interquartile Range(IQR) Method\n",
    "Lower_compulsory_limit = round(q1 - 1.5*IQR, 2)\n",
    "Upper_compulsory_limit = round(q3 + 1.5*IQR, 2)\n",
    "\n",
    "# Because the missing values are one of our main issues with dataset\n",
    "# We decided use the IQR rule to replace the outliers by IQR limits \n",
    "\n",
    "caribbean_subset['Employment to population ratio, 15+, total (%) (modeled ILO estimate)'] = \\\n",
    "   np.where(caribbean_subset['Employment to population ratio, 15+, total (%) (modeled ILO estimate)'] < Lower_compulsory_limit,\\\n",
    "            Lower_compulsory_limit, caribbean_subset['Employment to population ratio, 15+, total (%) (modeled ILO estimate)'])\n",
    "caribbean_subset['Employment to population ratio, 15+, total (%) (modeled ILO estimate)'] = \\\n",
    "   np.where(caribbean_subset['Employment to population ratio, 15+, total (%) (modeled ILO estimate)'] > Upper_compulsory_limit,\\\n",
    "            Upper_compulsory_limit, caribbean_subset['Employment to population ratio, 15+, total (%) (modeled ILO estimate)'])"
   ]
  },
  {
   "cell_type": "code",
   "execution_count": null,
   "metadata": {
    "code_folding": [
     0
    ]
   },
   "outputs": [],
   "source": [
    "# Making a boxplot of CO2 emissions (metric tons per capita) to  analyze outliers\n",
    "\n",
    "# setting figure size\n",
    "fig, ax = plt.subplots(figsize = (10, 5))\n",
    "\n",
    "\n",
    "# developing a boxplot for carat\n",
    "sns.boxplot(x      = caribbean_subset['CO2 emissions (metric tons per capita)'],  # x-variable\n",
    "           y      = None,     # optional y-variable\n",
    "           hue    = None,     # optional categorical feature\n",
    "           orient = 'h',      # horizontal or vertical\n",
    "           data   = caribbean_subset) # DataFrame where features exist\n",
    "\n",
    "\n",
    "#formatting and displaying the plot\n",
    "plt.title(label = 'Caribbean CO2 emissions (metric tons per capita)')\n",
    "plt.xlabel(xlabel = 'CO2 emissions (metric tons per capita)')\n",
    "plt.show()"
   ]
  },
  {
   "cell_type": "code",
   "execution_count": null,
   "metadata": {
    "code_folding": [
     0
    ]
   },
   "outputs": [],
   "source": [
    "# Treating outliers for CO2 emissions (metric tons per capita)\n",
    "\n",
    "# Calculating interquartile range\n",
    "q3 = caribbean_subset['CO2 emissions (metric tons per capita)'].quantile(0.75)\n",
    "q1 = caribbean_subset['CO2 emissions (metric tons per capita)'].quantile(0.25)\n",
    "IQR = q3 - q1\n",
    "\n",
    "# Calculating compulsory limits of Interquartile Range(IQR) Method\n",
    "Lower_compulsory_limit = round(q1 - 1.5*IQR, 2)\n",
    "Upper_compulsory_limit = round(q3 + 1.5*IQR, 2)\n",
    "\n",
    "# Because the missing values are one of our main issues with dataset\n",
    "# We decided use the IQR rule to replace the outliers by IQR limits \n",
    "\n",
    "caribbean_subset['CO2 emissions (metric tons per capita)'] = \\\n",
    "   np.where(caribbean_subset['CO2 emissions (metric tons per capita)'] < Lower_compulsory_limit,\\\n",
    "            Lower_compulsory_limit, caribbean_subset['CO2 emissions (metric tons per capita)'])\n",
    "caribbean_subset['CO2 emissions (metric tons per capita)'] = \\\n",
    "   np.where(caribbean_subset['CO2 emissions (metric tons per capita)'] > Upper_compulsory_limit,\\\n",
    "            Upper_compulsory_limit, caribbean_subset['CO2 emissions (metric tons per capita)'])"
   ]
  },
  {
   "cell_type": "markdown",
   "metadata": {},
   "source": [
    "<div style=\"margin: 2em 5em 0 0; color: \">\n",
    "\n",
    "# Insights and Analysis \n",
    "\n",
    "<div>"
   ]
  },
  {
   "cell_type": "code",
   "execution_count": null,
   "metadata": {
    "code_folding": [
     0
    ]
   },
   "outputs": [],
   "source": [
    "# developing a boxplot comparision for all countries and CO2 emmissions \n",
    "\n",
    "fig, ax = plt.subplots(figsize = (8,6))\n",
    "\n",
    "\n",
    "sns.boxplot(x      = 'CO2 emissions (metric tons per capita)',  # x-variable\n",
    "            y      = 'Country Name',     # optional y-variable\n",
    "            hue    = None,     # optional categorical feature\n",
    "            orient = 'h',      # horizontal or vertical\n",
    "            data   = caribbean_subset) # DataFrame where features exist\n",
    "\n",
    "\n",
    "# formatting and displaying the plot\n",
    "plt.title(label   = 'Caribbean CO2 emissions (metric tons per capita) ')\n",
    "plt.xlabel(xlabel = 'CO2 emissions (metric tons per capita)')\n",
    "plt.ylabel(ylabel = 'Country Name')\n",
    "plt.show()\n",
    "\n",
    "# we will look for any obvious trends, were they created by a bias or true data? "
   ]
  },
  {
   "cell_type": "markdown",
   "metadata": {},
   "source": [
    "<div style=\"margin: 2em 5em 0 0; color: \">\n",
    "\n",
    "## Green Energy Potential \n",
    " \n",
    "<p> Most of our region are on the lower end of CO2 production but countries like Trinidad/Tobago Cayman Islands and Aruba are on the much higher end of the spectrum. This could be due to many reasons depending on the country but if we look to Puerto Rico we see a island that has turned to greener energy sources in an effort to retain power and stability before during and after devastating weather patterns that often create a lot of damage. Would some of the other islands benefit from similar adaptations for not just climate change reasons but for infrastructure stability as well? Is there a market for a green energy company to provide simple solution to these countries? <p>"
   ]
  },
  {
   "cell_type": "code",
   "execution_count": null,
   "metadata": {
    "code_folding": [
     0
    ]
   },
   "outputs": [],
   "source": [
    "# developing boxplot comparisions for all countries and Employment total \n",
    "\n",
    "fig, ax = plt.subplots(figsize = (8,6))\n",
    "\n",
    "\n",
    "\n",
    "sns.boxplot(x      = 'Employment to population ratio, 15+, total (%) (modeled ILO estimate)',  # x-variable\n",
    "            y      = 'Country Name',     # optional y-variable\n",
    "            hue    = None,     # optional categorical feature\n",
    "            orient = 'h',      # horizontal or vertical\n",
    "            data   = caribbean_subset) # DataFrame where features exist\n",
    "\n",
    "\n",
    "# formatting and displaying the plot\n",
    "plt.title(label   = 'Caribbean Employment to population ratio, 15+, total (%) (modeled ILO estimate) ')\n",
    "plt.xlabel(xlabel = 'Employment to population ratio, 15+, total (%) (modeled ILO estimate)')\n",
    "plt.ylabel(ylabel = 'Country Name')\n",
    "plt.show()\n",
    "\n",
    "#we know we had to use median to fill in some of the missing data. this has contributed to some of the trends seen "
   ]
  },
  {
   "attachments": {
    "Screenshot%202020-11-04%20at%2014.32.43.png": {
     "image/png": "[encoded data removed]"
    }
   },
   "cell_type": "markdown",
   "metadata": {
    "cell_style": "split"
   },
   "source": [
    "![Screenshot%202020-11-04%20at%2014.32.43.png](attachment:Screenshot%202020-11-04%20at%2014.32.43.png)"
   ]
  },
  {
   "attachments": {
    "Screenshot%202020-11-04%20at%2014.31.26.png": {
     "image/png": "[encoded data removed]"
    }
   },
   "cell_type": "markdown",
   "metadata": {
    "cell_style": "split"
   },
   "source": [
    "![Screenshot%202020-11-04%20at%2014.31.26.png](attachment:Screenshot%202020-11-04%20at%2014.31.26.png)"
   ]
  },
  {
   "cell_type": "markdown",
   "metadata": {},
   "source": [
    "<div style=\"margin: 2em 5em 0 0; color: \">\n",
    "\n",
    "## Highlighting the bias \n",
    " \n",
    "<p>At first glance the three graphs above don't appear to be at all related but in actual fact they are all a representation of the same feature. The largest one has been created using outside data to fill in some of the missing data as well as using the median. The bottom left hand graph was made using only the median to fill in data points and the bottom right is with no missing value repair. These three demonstrate the importance of a good missing value strategy and knowing how it will affect your results before basing any business decisions. \n",
    "<p>"
   ]
  },
  {
   "cell_type": "code",
   "execution_count": null,
   "metadata": {
    "code_folding": [
     0
    ]
   },
   "outputs": [],
   "source": [
    "# developing boxplot comparision for GNI and all countries \n",
    "\n",
    "fig, ax = plt.subplots(figsize = (8,6))\n",
    "\n",
    "\n",
    "\n",
    "sns.boxplot(x      = 'GNI per capita, Atlas method (current US$)',  # x-variable\n",
    "            y      = 'Country Name',     # optional y-variable\n",
    "            hue    = None,     # optional categorical feature\n",
    "            orient = 'h',      # horizontal or vertical\n",
    "            data   = caribbean_subset) # DataFrame where features exist\n",
    "\n",
    "\n",
    "# formatting and displaying the plot\n",
    "plt.title(label   = 'Caribbean GNI per capita, Atlas method (current US$) ')\n",
    "plt.xlabel(xlabel = 'GNI per capita, Atlas method (current US$)')\n",
    "plt.ylabel(ylabel = 'Country Name')\n",
    "plt.show()"
   ]
  },
  {
   "cell_type": "markdown",
   "metadata": {},
   "source": [
    "<div style=\"margin: 2em 5em 0 0; color: \">\n",
    "\n",
    "## GNI and Business  \n",
    "\n",
    "<p>The GNI direct comparison between each individual country reveals a tendency in which countries with close ties to and current European territories have a higher GNI than independent countries. These include Aruba (Dutch), Cayman Islands (UK and tax haven), British Virgin Islands (UK), and Turks and Caicos Islands (UK). We see that even though the country is famous and tourism heavy it does not mean their GNI will represent this. See the Dominican Republic and Jamaica. It can be deduced that there are large hospitality companies who earn the majority of income but it is not distributed equally within the country. We also see that Oil and Gas exporters such as Trinidad and Tobago, as well as Barbados have a higher GNI than countries who are in other industries. And the Cayman Islands also highly profits for their tax laws which make it one of the few world wide tax havens. \n",
    " \n",
    "<p>"
   ]
  },
  {
   "cell_type": "code",
   "execution_count": null,
   "metadata": {
    "code_folding": [
     0
    ]
   },
   "outputs": [],
   "source": [
    "# developing boxplot comparison for infant mortality and all countries \n",
    "\n",
    "fig, ax = plt.subplots(figsize = (8,6))\n",
    "\n",
    "\n",
    "\n",
    "sns.boxplot(x      = 'Mortality rate, infant (per 1,000 live births)',  # x-variable\n",
    "            y      = 'Country Name',     # optional y-variable\n",
    "            hue    = None,     # optional categorical feature\n",
    "            orient = 'h',      # horizontal or vertical\n",
    "            data   = caribbean_subset) # DataFrame where features exist\n",
    "\n",
    "\n",
    "# formatting and displaying the plot\n",
    "plt.title(label   = 'Caribbean Mortality rate, infant (per 1,000 live births) ')\n",
    "plt.xlabel(xlabel = 'Mortality rate, infant (per 1,000 live births)')\n",
    "plt.ylabel(ylabel = 'Country Name')\n",
    "plt.show()\n",
    "\n",
    "#We also used median to fill for this feature, more so than for the others as this was missing a bit more data. "
   ]
  },
  {
   "cell_type": "markdown",
   "metadata": {},
   "source": [
    "<div style=\"margin: 2em 5em 0 0; color: \">\n",
    "\n",
    "## Infant Mortality Rate\n",
    " \n",
    "<p>Though this graph shows more uniformed trends it is important to note that this feature had its missing values filled with the median so there is a degree of bias present. Regardless of bias we can still see that the mortality rate is a bit high in a good portion of the countries. This could be due to many different factors but could be changed through increased access to health care and improved infrastructure. There maybe an opportunity for a floating hospital model to service the smaller more remote islands and more water ambulance companies. <p>"
   ]
  },
  {
   "cell_type": "code",
   "execution_count": null,
   "metadata": {
    "code_folding": [
     0
    ]
   },
   "outputs": [],
   "source": [
    "# developing boxplot comparison for Cell plans and all countries \n",
    "\n",
    "fig, ax = plt.subplots(figsize = (8,6))\n",
    "\n",
    "\n",
    "\n",
    "sns.boxplot(x      = 'Mobile cellular subscriptions (per 100 people)',  # x-variable\n",
    "            y      = 'Country Name',     # optional y-variable\n",
    "            hue    = None,     # optional categorical feature\n",
    "            orient = 'h',      # horizontal or vertical\n",
    "            data   = caribbean_subset) # DataFrame where features exist\n",
    "\n",
    "\n",
    "# formatting and displaying the plot\n",
    "plt.title(label   = 'Caribbean Mobile cellular subscriptions (per 100 people) ')\n",
    "plt.xlabel(xlabel = 'Mobile cellular subscriptions (per 100 people)')\n",
    "plt.ylabel(ylabel = 'Country Name')\n",
    "plt.show()\n"
   ]
  },
  {
   "cell_type": "markdown",
   "metadata": {},
   "source": [
    "<div style=\"margin: 2em 5em 0 0; color: \">\n",
    "\n",
    "## Mobile Phones \n",
    " \n",
    "<p>\n",
    "\n",
    "Except for the countries limited by political or economic issues, the Antilles and Caribbean countries are well connected, when measured in terms of mobile subscriptions. At least the 70% of the countries are close to or higher than 100 cellular subscription per 100 people. There are also no outliers which is unusual compared with the rest of the world. This means in absence of internal variability data, most people who live in the Caribbean area have a or access to a cell phone. With more targeted research a market need could be identifies around this communication reliance. There could be a need for a new provider or a cell tower construction company to improve service. <p>"
   ]
  },
  {
   "cell_type": "code",
   "execution_count": null,
   "metadata": {},
   "outputs": [],
   "source": [
    "#creating data set for the correlation analysis / heatmap generation with just the 5 features chosen\n",
    "\n",
    "caribbean_2= caribbean_subset[ ['Country Name','CO2 emissions (metric tons per capita)',\\\n",
    "                           'Employment to population ratio, 15+, total (%) (modeled ILO estimate)', \\\n",
    "                           'GNI per capita, Atlas method (current US$)',\\\n",
    "                           'Mortality rate, infant (per 1,000 live births)',\\\n",
    "                           'Mobile cellular subscriptions (per 100 people)'] ]"
   ]
  },
  {
   "cell_type": "code",
   "execution_count": null,
   "metadata": {
    "cell_style": "center"
   },
   "outputs": [],
   "source": [
    "# converting correlation matrix into a DataFrame\n",
    "caribbean_corr = caribbean_2.corr(method = 'pearson').round(decimals= 2)\n",
    "\n",
    "# specifying plot size (making it bigger)\n",
    "fig, ax = plt.subplots(figsize=(12,12))\n",
    "\n",
    "\n",
    "# developing a heatmap\n",
    "sns.heatmap(data       = caribbean_corr, # the correlation matrix\n",
    "            cmap       = 'coolwarm',     #color of map\n",
    "            square     = True,          # tightening the layout\n",
    "            annot      = True,          # should there be numbers in the heatmap\n",
    "            linecolor  = 'white',       # lines between boxes\n",
    "            linewidths = 2)          # how thick should the lines be?\n",
    "\n",
    "\n",
    "# title and displaying the plot\n",
    "plt.title(\"\"\"\n",
    "Linear Correlation Heatmap for Caribbean Features\n",
    "\"\"\")\n",
    "\n",
    "plt.show()"
   ]
  },
  {
   "cell_type": "markdown",
   "metadata": {},
   "source": [
    "<div style=\"margin: 2em 5em 0 0; color: \">\n",
    "\n",
    "# Our 5 features and the whole region\n",
    " \n",
    "<p>\n",
    "    The first interesting point of our heatmap is a lack of correlation between Infant Mortality Rate and Employment Total and even a slight negative correlation between 'Infant Mortality rate' vs. GNI per capita'. This is interesting as one would assume that the amount of people employed and making money would have an effect on the health of a country. The Infant mortality rate is seen by the UN as a strong measure of the overall health of a population as well as it's a measure of wealth. However, our correlation map above fails to show this relationship. This makes us wonder if there may be another \"Lurking\" variable within the data set that could explain this descrepancy.\n",
    "    \n",
    " The correlation between CO2 and GNI shows a strong positive correlation, though we would have expected this correlation number to be even higher as growing GNI leads to increasing CO2 emissions. For further analysis, the correlation between island size or the main type of transportation(boat, car etc.) vs CO2 can be investigated.\n",
    "    \n",
    "Mobile Cellular Subscriptions shows moderate positive linear relationship with CO2 emissions, Employment to population ratio, and GNI per capita which we found as a very outstanding point in our analysis as mobile phones can impact economic development in number of ways. More mobile phones means more mobile-based services, more plug-in stations which is a massive generator of CO2. It creates more businesses around mobile services which leads to increment in employment rates. To uncover the reason of having a moderate correlation instead of high, a potential lurking variable or region infrastructure can be investigated.\n",
    "    \n",
    " "
   ]
  },
  {
   "cell_type": "code",
   "execution_count": null,
   "metadata": {},
   "outputs": [],
   "source": [
    "#Subset for correlation\n",
    "caribbean_subset_dropped_corr  = caribbean_subset_dropped[['Country Code Total',\\\n",
    "                              'Country Name',\\\n",
    "                             'CO2 emissions (metric tons per capita)',\\\n",
    "                             'Employment to population ratio, 15+, total (%) (modeled ILO estimate)',\\\n",
    "                             'GNI per capita, Atlas method (current US$)',\\\n",
    "                             'Mobile cellular subscriptions (per 100 people)',\\\n",
    "                             'Mortality rate, infant (per 1,000 live births)']]\n",
    "\n",
    "\n",
    "# Correlation\n",
    "caribean_countries_corr = caribbean_subset_dropped_corr.corr(method ='pearson').round(decimals = 2)\n",
    "\n",
    "# specifying plot size (making it bigger)\n",
    "fig, ax = plt.subplots(figsize=(10,10))\n",
    "\n",
    "\n",
    "# developing a heatmap\n",
    "sns.heatmap(data       = caribean_countries_corr, # the correlation matrix\n",
    "            cmap       = 'coolwarm',     # color\n",
    "            square     = True,          # \n",
    "            annot      = True,          # should there be numbers in the heatmap\n",
    "            linecolor  = 'white',       # lines between boxes\n",
    "            linewidths = 0.5)          # how thick should the lines be?\n",
    "\n",
    "\n",
    "# title and displaying the plot\n",
    "plt.title(\"\"\"\n",
    "Linear Correlation Heatmap for caribean_countries_corr\n",
    "\"\"\")\n",
    "\n",
    "plt.show()"
   ]
  },
  {
   "cell_type": "markdown",
   "metadata": {},
   "source": [
    "<div style=\"margin: 2em 5em 0 0; color: \">\n",
    "\n",
    "## Comparison of Correlation\n",
    " \n",
    "<p>As we mentioned earlier in our analysis, one of our obstacles was the diversity of the Caribbean and Parts of Latin America as a region. To explore further in that, we created a second heatmap for 5 countries in our region which contained no missing data in the dataset. When the diversity and the variation of countries decreased, a significant increment in the correlation values is observed. Therefore, the variability might be effecting the level of correlations in this analysis.<p> "
   ]
  },
  {
   "cell_type": "markdown",
   "metadata": {},
   "source": [
    "<div style=\"margin: 2em 5em 0 0; color: \">\n",
    "\n",
    "# Bibliography\n",
    "<p>\n",
    "\n",
    "<li>index mundi. (2010). Aruba - Employment to population ratio . Retrieved from Index Mundi: https://www.indexmundi.com/facts/aruba/employment-to-population-ratio</li>\n",
    "<li>macrotrends. (2020). Aruba GNI Per Capita 1988-2020. Retrieved from Macrotrends: https://www.macrotrends.net/countries/ABW/aruba/gni-per-capita</li>\n",
    "<li>macrotrends. (2020). Cayman Islands GNI Per Capita 2010-2020. Retrieved from macrotrends: https://www.macrotrends.net/countries/CYM/cayman-islands/gni-per-capita</li>\n",
    "<li>UNdata. (2010). Per capita GNI at current prices - US dollars. Retrieved from UNData: http://data.un.org/Data.aspx?q=GNI+PER+CAPITA+2010&d=SNAAMA&f=grID%3A103%3BcurrID%3AUSD%3BpcFlag%3A1%3Byr%3A2010</li>\n",
    "<li>World data atlas. (2018). Puerto Rico - CO2 emissions per capita. Retrieved from Knoema: https://knoema.com/atlas/Puerto-Rico/CO2-emissions-per-capita![image.png](attachment:image.png)</li>\n",
    "<li>General Law on Environment and Natural Resources (No. 64-00). (2011). (2011). Dominican Republic State Secretariat of Environment and Natural Resources, 132. http://extwprlegs1.fao.org/docs/pdf/dom44863E.pdf</li>\n",
    "<li>Greenhouse Gas Emissions in the Eastern and Southern Caribbean Region. (2011). USAID, 14. http://www.ipsnews.net/Library/2019/02/2017_USAID_GHG-Emissions-Factsheet_Eastern-and-Southern-Caribbean-Regional.pdf</li>\n",
    "<li>Lancaster, H. (2020). Dominican Republic - Telecoms, Mobile and Broadband - Statistics and Analyses. BuddeComm. https://www.budde.com.au/Research/Dominican-Republic-Telecoms-Mobile-and-Broadband-Statistics-and-Analyses</li>    \n",
    "<li>Ortiz, D. (2019, June 24). Corruption Crisis: How Criminal Politicians Poisoned the Dominican Republic. National Interest. https://nationalinterest.org/feature/corruption-crisis-how-criminal-politicians-poisoned-dominican-republic-64091</li>  \n",
    "<li>World Travel and Tourism Council,. (n.d.). Economic Impact Research. World Travel and Tourism Council. http://wttc.org/Research/Insights/economic-impact-research</li>     \n",
    "    \n",
    "</p>\n",
    "\n"
   ]
  },
  {
   "cell_type": "markdown",
   "metadata": {},
   "source": [
    "***Special Thank you to Dachao Sun for sharing his html code for the title markdown cell and the headings for this report.***"
   ]
  }
 ],
 "metadata": {
  "kernelspec": {
   "display_name": "Python 3",
   "language": "python",
   "name": "python3"
  },
  "language_info": {
   "codemirror_mode": {
    "name": "ipython",
    "version": 3
   },
   "file_extension": ".py",
   "mimetype": "text/x-python",
   "name": "python",
   "nbconvert_exporter": "python",
   "pygments_lexer": "ipython3",
   "version": "3.8.3"
  },
  "toc": {
   "base_numbering": 1,
   "nav_menu": {},
   "number_sections": true,
   "sideBar": true,
   "skip_h1_title": false,
   "title_cell": "Table of Contents",
   "title_sidebar": "Contents",
   "toc_cell": false,
   "toc_position": {},
   "toc_section_display": true,
   "toc_window_display": false
  },
  "varInspector": {
   "cols": {
    "lenName": 16,
    "lenType": 16,
    "lenVar": 40
   },
   "kernels_config": {
    "python": {
     "delete_cmd_postfix": "",
     "delete_cmd_prefix": "del ",
     "library": "var_list.py",
     "varRefreshCmd": "print(var_dic_list())"
    },
    "r": {
     "delete_cmd_postfix": ") ",
     "delete_cmd_prefix": "rm(",
     "library": "var_list.r",
     "varRefreshCmd": "cat(var_dic_list()) "
    }
   },
   "types_to_exclude": [
    "module",
    "function",
    "builtin_function_or_method",
    "instance",
    "_Feature"
   ],
   "window_display": false
  }
 },
 "nbformat": 4,
 "nbformat_minor": 4
}
